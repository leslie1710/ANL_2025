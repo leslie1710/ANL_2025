{
 "cells": [
  {
   "cell_type": "markdown",
   "id": "47a1ac00",
   "metadata": {},
   "source": [
    "**Práctica Análisis Numérico 2025/07/23**"
   ]
  },
  {
   "cell_type": "code",
   "execution_count": 27,
   "id": "07f9b7f0",
   "metadata": {},
   "outputs": [],
   "source": [
    "import numpy as np \n",
    "import pandas as pd\n",
    "\n",
    "def gradiente_conjugado(A,x0,b,tol=1e-10):\n",
    "    x = x0.copy()\n",
    "    r = A @ x-b\n",
    "    p = -r \n",
    "    k = 0 \n",
    "\n",
    "    #Guardar la evolucion \n",
    "    history = {\n",
    "        'iteration' : [],\n",
    "        'norm_x' : [],\n",
    "        'norm_r' : []\n",
    "    }\n",
    "    while np.linalg.norm(r)>tol:\n",
    "        norm_x = np.linalg.norm(x)\n",
    "        norm_r = np.linalg.norm(r)\n",
    "        history['iteration'].append(k)\n",
    "        history['norm_x'].append(norm_x)\n",
    "        history['norm_r'].append(norm_r)\n",
    "\n",
    "        Ap = A @ p \n",
    "        alpha = r @ r /(p @ Ap)\n",
    "        x = x+alpha*p\n",
    "        r_new = r + alpha * Ap\n",
    "        beta = (r_new @ r_new) / (r @ r)\n",
    "        p = -r_new +beta*p \n",
    "        r = r_new\n",
    "        k +=1\n",
    "    df = pd.DataFrame(history)\n",
    "    return x,k,df\n",
    "\n",
    "\n"
   ]
  },
  {
   "cell_type": "code",
   "execution_count": 29,
   "id": "1089d079",
   "metadata": {},
   "outputs": [
    {
     "name": "stdout",
     "output_type": "stream",
     "text": [
      "Solución con gradiente conjugado: [1. 1. 1.]\n",
      "Iteraciones: 2\n",
      "Solución con numpy.linalg.solve: [1.484375 0.03125  1.484375]\n"
     ]
    }
   ],
   "source": [
    "A = np.array([[1,2,3],[4,5,6],[7,8,9]])\n",
    "b = np.array([1,1,1])\n",
    "A = A.T @ A\n",
    "b = A.T @ b\n",
    "x0 =np.array([0,0,0])\n",
    "\n",
    "# Llamada a gradiente conjugado\n",
    "x_gc, k, df = gradiente_conjugado(A, x0, b)\n",
    "\n",
    "# Solución con numpy.linalg.solve\n",
    "x_np = np.linalg.solve(A, b)\n",
    "\n",
    "print(\"Solución con gradiente conjugado:\", x_gc)\n",
    "print(\"Iteraciones:\", k)\n",
    "print(\"Solución con numpy.linalg.solve:\", x_np)"
   ]
  },
  {
   "cell_type": "code",
   "execution_count": 33,
   "id": "9e469e9c",
   "metadata": {},
   "outputs": [],
   "source": [
    "def power_method(A,q):\n",
    "    for k in range(100):\n",
    "        z = A@ q\n",
    "        q = z/np.linalg.norm(z)\n",
    "        nu= q.T @ A @ q\n",
    "    return nu,q\n"
   ]
  },
  {
   "cell_type": "code",
   "execution_count": 34,
   "id": "ecf19cef",
   "metadata": {},
   "outputs": [
    {
     "name": "stdout",
     "output_type": "stream",
     "text": [
      "[0.47967118 0.57236779 0.66506441]\n"
     ]
    }
   ],
   "source": [
    "nu ,q = power_method(A,np.array([1,1,1]))\n",
    "print(q)\n"
   ]
  },
  {
   "cell_type": "code",
   "execution_count": 36,
   "id": "2416e1dc",
   "metadata": {},
   "outputs": [
    {
     "data": {
      "text/plain": [
       "EigResult(eigenvalues=array([2.83858587e+02, 1.14141342e+00, 7.28303082e-15]), eigenvectors=array([[-0.47967118, -0.77669099,  0.40824829],\n",
       "       [-0.57236779, -0.07568647, -0.81649658],\n",
       "       [-0.66506441,  0.62531805,  0.40824829]]))"
      ]
     },
     "execution_count": 36,
     "metadata": {},
     "output_type": "execute_result"
    }
   ],
   "source": [
    "np.linalg.eig(A)"
   ]
  },
  {
   "cell_type": "code",
   "execution_count": 38,
   "id": "9a6747eb",
   "metadata": {},
   "outputs": [],
   "source": [
    "def power_method(A,q,iter):\n",
    "    for k in range(iter):\n",
    "        z = A@ q\n",
    "        q = z/np.linalg.norm(z)\n",
    "        nu= q.T @ A @ q\n",
    "    return nu,q\n"
   ]
  },
  {
   "cell_type": "code",
   "execution_count": 40,
   "id": "959f7a08",
   "metadata": {},
   "outputs": [
    {
     "name": "stdout",
     "output_type": "stream",
     "text": [
      "[np.float64(283.8585865803702), np.float64(283.8585865803702), np.float64(283.8585865803702), np.float64(283.8585865803702), np.float64(283.8585865803702), np.float64(283.8585865803702), np.float64(283.8585865803702)]\n"
     ]
    }
   ],
   "source": [
    "experimentos = [10,30,70,100,150,200,500]\n",
    "nus= []\n",
    "for i in experimentos:\n",
    "    nu,q =power_method(A,np.array([1,1,1]),i)\n",
    "    nus.append(nu)\n",
    "print(nus)\n"
   ]
  },
  {
   "cell_type": "code",
   "execution_count": 43,
   "id": "bf20a87e",
   "metadata": {},
   "outputs": [
    {
     "name": "stdout",
     "output_type": "stream",
     "text": [
      "[[1.         0.5        0.33333333 0.25       0.2        0.16666667]\n",
      " [0.5        0.33333333 0.25       0.2        0.16666667 0.14285714]\n",
      " [0.33333333 0.25       0.2        0.16666667 0.14285714 0.125     ]\n",
      " [0.25       0.2        0.16666667 0.14285714 0.125      0.11111111]\n",
      " [0.2        0.16666667 0.14285714 0.125      0.11111111 0.1       ]\n",
      " [0.16666667 0.14285714 0.125      0.11111111 0.1        0.09090909]]\n"
     ]
    }
   ],
   "source": [
    "\n",
    "def matriz_hilbert(n):\n",
    "    H = np.zeros((n, n), dtype=float)\n",
    "    for i in range(n):\n",
    "        for j in range(n):\n",
    "            H[i, j] = 1 / (i + j + 1)\n",
    "    return H\n",
    "\n",
    "# Crear matriz Hilbert 6x6\n",
    "H6 =matriz_hilbert(6)\n",
    "print(H6)"
   ]
  },
  {
   "cell_type": "code",
   "execution_count": null,
   "id": "fad40a5e",
   "metadata": {},
   "outputs": [],
   "source": [
    "def invpower(A, z0, mu, tol=1e-8, nmax=100):\n",
    "    n = A.shape[0]\n",
    "    M = A - mu * np.eye(n)\n",
    "    q = z0 / np.linalg.norm(z0)\n",
    "    res = tol + 1\n",
    "    niter = 0\n",
    "    while res > tol and niter < nmax:\n",
    "        niter += 1\n",
    "        z = np.linalg.solve(M, q)\n",
    "        q2 = z / np.linalg.norm(z)\n",
    "        lam = np.dot(q2.T, A @ q2)\n",
    "        res = np.linalg.norm(A @ q2 - lam * q2)\n",
    "        costheta = abs(np.dot(q2.T, q))\n",
    "        if costheta < 5e-2:\n",
    "            print(\"Multiple eigenvalue\")\n",
    "            break\n",
    "        q = q2\n",
    "    sigma = lam\n",
    "    err = res\n",
    "    x = q2\n",
    "    return sigma, x, niter, err"
   ]
  },
  {
   "cell_type": "code",
   "execution_count": null,
   "id": "d8068c4b",
   "metadata": {},
   "outputs": [],
   "source": []
  }
 ],
 "metadata": {
  "kernelspec": {
   "display_name": "test",
   "language": "python",
   "name": "python3"
  },
  "language_info": {
   "codemirror_mode": {
    "name": "ipython",
    "version": 3
   },
   "file_extension": ".py",
   "mimetype": "text/x-python",
   "name": "python",
   "nbconvert_exporter": "python",
   "pygments_lexer": "ipython3",
   "version": "3.13.2"
  }
 },
 "nbformat": 4,
 "nbformat_minor": 5
}
